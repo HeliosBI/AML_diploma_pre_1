{
 "cells": [
  {
   "cell_type": "markdown",
   "metadata": {},
   "source": [
    "Мы владеем сетью магазинов, в которых продаются различные товары.  \n",
    "\n",
    "Наши сотрудники собрали датасет из 8523 продаж товаров в различных магазинах нашей сети. Наша задача построить модель, предсказывающую продажи каждого продукта в конкретном магазине.  \n",
    "\n",
    "Используя эту модель, попробовать выявить факторы, больше всего влияющие на увеличение продаж.  \n",
    "\n",
    "Описание датасета:"
   ]
  },
  {
   "cell_type": "markdown",
   "metadata": {},
   "source": [
    "Variable\tDescription  \n",
    "- Item_Identifier\tId продукта  \n",
    "- Item_Weight\tВес продукта  \n",
    "- Item_Fat_Content\tСодержание жира в продукте  \n",
    "- Item_Visibility\t%полок, отведенный под наш продукт в конкретном магазине  \n",
    "- Item_Type\tКатегория продукта  \n",
    "- Item_MRP\tМаксимальная цена продажи продукта  \n",
    "- Outlet_Identifier\tИдентификатор магазина  \n",
    "- Outlet_Establishment_Year\tГод открытия магазина  \n",
    "- Outlet_Size\tПлощадь магазина  \n",
    "- Outlet_Location_Type\tТип города, в котором расположен магазин  \n",
    "- Outlet_Type\tПризнак является ли магазин продуктовым или супермаркетом  \n",
    "- Item_Outlet_Sales\tПродажи продукта в конкретном магазине. Именно ее и надо предсказывать  "
   ]
  },
  {
   "cell_type": "markdown",
   "metadata": {},
   "source": [
    "В результате работы должен получиться:  \n",
    "- Jupyter-ноутбук с моделью  \n",
    "- Признаки, влияющие больше всего на уровень продаж  \n",
    "- Датасет, если после ваших манипуляций он отличается от исходного;  \n",
    "- Документ с обоснованием решения и краткими результатами: какие техники и почему использовали, что получили, что можно улучшить (можно в рамках jupyter notebook’а)"
   ]
  },
  {
   "cell_type": "markdown",
   "metadata": {},
   "source": [
    "Баллы\tЧто надо сделать  \n",
    "10\tПровести EDA  \n",
    "10\tОбработать категориальные признаки   \n",
    "10\tУстранить пропущенные значения  \n",
    "10\tИзучить корреляцию признаков с данными о продажах  \n",
    "10\tВыбрать и обосновать метрику, на основе которой будем измерять качество полученной модели  \n",
    "20\tПостроить и подобрать оптимальные параметры для любой линейной модели  \n",
    "20\tПостроить и подобрать оптимальные параметры для любой нелинейной модели  \n",
    "20\tПровести стекинг нескольких моделей  \n",
    "10\tОценить качество модели на отложенной выборке  \n",
    "10\tВыбрать топ 3 признака больше всего влияющие на объемы продаж  "
   ]
  },
  {
   "cell_type": "markdown",
   "metadata": {},
   "source": [
    "Все шаги решения должны сопровождаться подробным описанием полученных результатов и обоснованием выбора того или иного шага!  \n",
    "За отсутствие описания так же будут снижаться баллы.  \n",
    "\n",
    "Максимальное доступное количество баллов - 130  \n",
    "Для получения зачета надо набрать минимум 80 баллов  \n",
    "Для получения зачета с отличием надо набрать минимум 120 баллов  "
   ]
  },
  {
   "cell_type": "code",
   "execution_count": null,
   "metadata": {},
   "outputs": [],
   "source": [
    "data = "
   ]
  },
  {
   "cell_type": "code",
   "execution_count": null,
   "metadata": {},
   "outputs": [],
   "source": []
  },
  {
   "cell_type": "code",
   "execution_count": null,
   "metadata": {},
   "outputs": [],
   "source": []
  },
  {
   "cell_type": "code",
   "execution_count": null,
   "metadata": {},
   "outputs": [],
   "source": []
  },
  {
   "cell_type": "code",
   "execution_count": null,
   "metadata": {},
   "outputs": [],
   "source": []
  },
  {
   "cell_type": "code",
   "execution_count": null,
   "metadata": {},
   "outputs": [],
   "source": []
  },
  {
   "cell_type": "code",
   "execution_count": null,
   "metadata": {},
   "outputs": [],
   "source": []
  },
  {
   "cell_type": "code",
   "execution_count": null,
   "metadata": {},
   "outputs": [],
   "source": []
  },
  {
   "cell_type": "code",
   "execution_count": null,
   "metadata": {},
   "outputs": [],
   "source": []
  },
  {
   "cell_type": "code",
   "execution_count": null,
   "metadata": {},
   "outputs": [],
   "source": []
  },
  {
   "cell_type": "code",
   "execution_count": null,
   "metadata": {},
   "outputs": [],
   "source": []
  },
  {
   "cell_type": "code",
   "execution_count": null,
   "metadata": {},
   "outputs": [],
   "source": []
  },
  {
   "cell_type": "code",
   "execution_count": null,
   "metadata": {},
   "outputs": [],
   "source": []
  },
  {
   "cell_type": "code",
   "execution_count": null,
   "metadata": {},
   "outputs": [],
   "source": []
  }
 ],
 "metadata": {
  "kernelspec": {
   "display_name": "Python 3",
   "language": "python",
   "name": "python3"
  },
  "language_info": {
   "codemirror_mode": {
    "name": "ipython",
    "version": 3
   },
   "file_extension": ".py",
   "mimetype": "text/x-python",
   "name": "python",
   "nbconvert_exporter": "python",
   "pygments_lexer": "ipython3",
   "version": "3.7.4"
  }
 },
 "nbformat": 4,
 "nbformat_minor": 2
}
